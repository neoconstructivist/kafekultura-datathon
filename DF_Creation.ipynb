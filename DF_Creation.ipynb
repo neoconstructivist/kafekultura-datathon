{
 "cells": [
  {
   "cell_type": "code",
   "execution_count": 12,
   "metadata": {
    "collapsed": true
   },
   "outputs": [],
   "source": [
    "import pandas as pd\n",
    "import numpy as np\n",
    "from dateutil.parser import parse\n",
    "import datetime\n",
    "import warnings\n",
    "warnings.filterwarnings('ignore')\n",
    "%matplotlib inline"
   ]
  },
  {
   "cell_type": "code",
   "execution_count": 13,
   "metadata": {
    "collapsed": true
   },
   "outputs": [],
   "source": [
    "data_orders = pd.read_excel(io='data/cafecultura_pos.xlsx', sheetname='pos_orders')"
   ]
  },
  {
   "cell_type": "code",
   "execution_count": 14,
   "metadata": {
    "collapsed": true
   },
   "outputs": [],
   "source": [
    "data_orders = data_orders.drop(['DISCOUNT_PROC', 'DISCOUNT_TOTAL', 'CUSTOMER_ID', 'CASH_RECEIVED', 'CHANGE_BACK','COMMENT',   \\\n",
    "                               'TAGS', 'INOUT', 'DRAFT',  'SERVICE_TIME'], axis=1)"
   ]
  },
  {
   "cell_type": "code",
   "execution_count": 15,
   "metadata": {
    "collapsed": true
   },
   "outputs": [],
   "source": [
    "data_cart = pd.read_excel(io='data/cafecultura_pos.xlsx', sheetname='pos_cart')"
   ]
  },
  {
   "cell_type": "code",
   "execution_count": 16,
   "metadata": {
    "collapsed": true
   },
   "outputs": [],
   "source": [
    "data_cart = data_cart.drop(['ID', 'CUSTOMER_ID', 'SESSION_ID'], axis=1)"
   ]
  },
  {
   "cell_type": "code",
   "execution_count": 17,
   "metadata": {
    "collapsed": true
   },
   "outputs": [],
   "source": [
    "items_str = []\n",
    "for i in range(1, 34):\n",
    "    items_str.append('item_' + str(i))"
   ]
  },
  {
   "cell_type": "code",
   "execution_count": 18,
   "metadata": {
    "collapsed": true
   },
   "outputs": [],
   "source": [
    "df_cols = ['ID','Seller', 'Total_sum', 'Entry_time', 'Num_guests', 'Num_items', 'Duration']\n",
    "df_cols.extend(items_str)"
   ]
  },
  {
   "cell_type": "code",
   "execution_count": 19,
   "metadata": {
    "collapsed": true
   },
   "outputs": [],
   "source": [
    "final_df  = pd.DataFrame(columns=df_cols)"
   ]
  },
  {
   "cell_type": "code",
   "execution_count": 20,
   "metadata": {
    "collapsed": true
   },
   "outputs": [],
   "source": [
    "def row_creation(order, cart, ID, frame):\n",
    "    ID = ID*1.0\n",
    "    if (ID not in frame.ID.tolist()):\n",
    "        temp_series = pd.Series(index = df_cols)\n",
    "        temp_series['ID'] = ID\n",
    "        temp_series['Seller'] = order['SELLER_ID']\n",
    "        temp_series['Total_sum'] = order['AMOUNT_TOTAL']\n",
    "        temp_series['Entry_time'] = cart['ADDED']\n",
    "        temp_series['Num_guests'] = order['GUESTS']\n",
    "        temp_series['Num_items'] = cart['ITEM_QTY']\n",
    "        temp_series['Duration'] = np.round((parse(order['ADDED']) - parse(cart['ADDED'])).seconds/60, decimals=1)\n",
    "        \n",
    "        \n",
    "        for i in range(1, 34):\n",
    "            temp_series['item_'+str(i)] = 0\n",
    "            \n",
    "        n_item = cart['ITEM_ID']\n",
    "        temp_series['item_' + str(n_item)] = 1\n",
    "        \n",
    "        \n",
    "        frame = frame.append(temp_series, ignore_index=True)\n",
    "    else:\n",
    "        frame.loc[frame[frame.ID==ID].index, 'Num_items'] = frame.loc[frame[frame.ID==ID].index,\\\n",
    "                                                                                  'Num_items'] + cart['ITEM_QTY']\n",
    "        \n",
    "        n_item = cart['ITEM_ID']\n",
    "        frame.loc[frame[frame.ID==ID].index, 'item_' + str(n_item)] = frame.loc[frame[frame.ID==ID].index,\\\n",
    "                                                                                'item_' + str(n_item)] + 1\n",
    "        \n",
    "        frame.loc[frame[frame.ID==ID].index, 'Duration'] =  np.round((parse(order['ADDED']) - \\\n",
    "                                                                     parse(frame.loc[frame[frame.ID==ID].index[0], \\\n",
    "                                                                                     'Entry_time'])).seconds/60, decimals = 1)\n",
    "                                \n",
    "    return frame\n",
    "        \n",
    "        "
   ]
  },
  {
   "cell_type": "code",
   "execution_count": 21,
   "metadata": {
    "collapsed": true
   },
   "outputs": [],
   "source": [
    "for i in range(data_orders.shape[0]):\n",
    "    temp_id = data_orders.ID[i]\n",
    "    for j in range(data_cart.shape[0]):\n",
    "        if (temp_id==data_cart.ORDER_ID[j]):\n",
    "            final_df =  row_creation(data_orders.loc[i, :], data_cart.loc[j, :], temp_id, final_df)"
   ]
  },
  {
   "cell_type": "code",
   "execution_count": 25,
   "metadata": {},
   "outputs": [
    {
     "name": "stderr",
     "output_type": "stream",
     "text": [
      "C:\\Users\\User\\Anaconda3\\lib\\site-packages\\ipykernel_launcher.py:2: SettingWithCopyWarning: \n",
      "A value is trying to be set on a copy of a slice from a DataFrame\n",
      "\n",
      "See the caveats in the documentation: http://pandas.pydata.org/pandas-docs/stable/indexing.html#indexing-view-versus-copy\n",
      "  \n"
     ]
    }
   ],
   "source": [
    "final_df = final_df.drop(final_df[final_df.Duration>180].index, axis=0)\n",
    "final_df.Duration[final_df.Duration<2] = 2"
   ]
  },
  {
   "cell_type": "code",
   "execution_count": 24,
   "metadata": {
    "collapsed": true
   },
   "outputs": [],
   "source": [
    "final_df = final_df.reset_index(drop= True)\n",
    "for i in range(final_df.shape[0]):\n",
    "    dt = parse(final_df.loc[i, 'Entry_time'])\n",
    "    final_df.loc[i, 'Date'] = dt.date()\n",
    "    final_df.loc[i, 'Time'] = dt.time()"
   ]
  },
  {
   "cell_type": "code",
   "execution_count": 26,
   "metadata": {
    "collapsed": true
   },
   "outputs": [],
   "source": [
    "t1 = datetime.time(8,0,0)\n",
    "t2 = datetime.time(13,0,0)\n",
    "t3 = datetime.time(17,0,0)\n",
    "t4 = datetime.time(23,0,0)"
   ]
  },
  {
   "cell_type": "code",
   "execution_count": 27,
   "metadata": {
    "collapsed": true
   },
   "outputs": [],
   "source": [
    "for i in range(final_df.shape[0]):\n",
    "    t = final_df.loc[i, 'Time']\n",
    "    if ((t > t1) & (t < t2)):\n",
    "        final_df.loc[i, 'T_period'] = 'morning'\n",
    "        \n",
    "    if ((t > t2) & (t < t3)):\n",
    "        final_df.loc[i, 'T_period'] = 'midday'\n",
    "        \n",
    "    if ((t > t3) & (t < t4)):\n",
    "        final_df.loc[i, 'T_period'] = 'evening'\n",
    "    "
   ]
  },
  {
   "cell_type": "code",
   "execution_count": 28,
   "metadata": {
    "collapsed": true
   },
   "outputs": [],
   "source": [
    "final_df = final_df.drop(['Entry_time', 'Time'], axis=1)"
   ]
  },
  {
   "cell_type": "code",
   "execution_count": 29,
   "metadata": {
    "collapsed": true
   },
   "outputs": [],
   "source": [
    "for i in range(final_df.shape[0]):\n",
    "    dt = final_df.loc[i, 'Date']\n",
    "    final_df.loc[i, 'Weekday'] = dt.isoweekday()"
   ]
  },
  {
   "cell_type": "code",
   "execution_count": 33,
   "metadata": {},
   "outputs": [
    {
     "data": {
      "text/html": [
       "<div>\n",
       "<style>\n",
       "    .dataframe thead tr:only-child th {\n",
       "        text-align: right;\n",
       "    }\n",
       "\n",
       "    .dataframe thead th {\n",
       "        text-align: left;\n",
       "    }\n",
       "\n",
       "    .dataframe tbody tr th {\n",
       "        vertical-align: top;\n",
       "    }\n",
       "</style>\n",
       "<table border=\"1\" class=\"dataframe\">\n",
       "  <thead>\n",
       "    <tr style=\"text-align: right;\">\n",
       "      <th></th>\n",
       "      <th>ID</th>\n",
       "      <th>Seller</th>\n",
       "      <th>Total_sum</th>\n",
       "      <th>Num_guests</th>\n",
       "      <th>Num_items</th>\n",
       "      <th>Duration</th>\n",
       "      <th>item_1</th>\n",
       "      <th>item_2</th>\n",
       "      <th>item_3</th>\n",
       "      <th>item_4</th>\n",
       "      <th>...</th>\n",
       "      <th>item_27</th>\n",
       "      <th>item_28</th>\n",
       "      <th>item_29</th>\n",
       "      <th>item_30</th>\n",
       "      <th>item_31</th>\n",
       "      <th>item_32</th>\n",
       "      <th>item_33</th>\n",
       "      <th>Date</th>\n",
       "      <th>T_period</th>\n",
       "      <th>Weekday</th>\n",
       "    </tr>\n",
       "  </thead>\n",
       "  <tbody>\n",
       "    <tr>\n",
       "      <th>0</th>\n",
       "      <td>185.0</td>\n",
       "      <td>1.0</td>\n",
       "      <td>4.5</td>\n",
       "      <td>1</td>\n",
       "      <td>2</td>\n",
       "      <td>2.0</td>\n",
       "      <td>0</td>\n",
       "      <td>0</td>\n",
       "      <td>0</td>\n",
       "      <td>0</td>\n",
       "      <td>...</td>\n",
       "      <td>0</td>\n",
       "      <td>0</td>\n",
       "      <td>0</td>\n",
       "      <td>0</td>\n",
       "      <td>0</td>\n",
       "      <td>0</td>\n",
       "      <td>0</td>\n",
       "      <td>2017-04-06</td>\n",
       "      <td>midday</td>\n",
       "      <td>4.0</td>\n",
       "    </tr>\n",
       "    <tr>\n",
       "      <th>1</th>\n",
       "      <td>150.0</td>\n",
       "      <td>2.0</td>\n",
       "      <td>11.0</td>\n",
       "      <td>1</td>\n",
       "      <td>4</td>\n",
       "      <td>31.2</td>\n",
       "      <td>0</td>\n",
       "      <td>0</td>\n",
       "      <td>0</td>\n",
       "      <td>0</td>\n",
       "      <td>...</td>\n",
       "      <td>0</td>\n",
       "      <td>0</td>\n",
       "      <td>0</td>\n",
       "      <td>0</td>\n",
       "      <td>0</td>\n",
       "      <td>0</td>\n",
       "      <td>0</td>\n",
       "      <td>2017-01-24</td>\n",
       "      <td>evening</td>\n",
       "      <td>2.0</td>\n",
       "    </tr>\n",
       "    <tr>\n",
       "      <th>2</th>\n",
       "      <td>156.0</td>\n",
       "      <td>1.0</td>\n",
       "      <td>2.5</td>\n",
       "      <td>1</td>\n",
       "      <td>1</td>\n",
       "      <td>2.0</td>\n",
       "      <td>0</td>\n",
       "      <td>0</td>\n",
       "      <td>1</td>\n",
       "      <td>0</td>\n",
       "      <td>...</td>\n",
       "      <td>0</td>\n",
       "      <td>0</td>\n",
       "      <td>0</td>\n",
       "      <td>0</td>\n",
       "      <td>0</td>\n",
       "      <td>0</td>\n",
       "      <td>0</td>\n",
       "      <td>2017-04-06</td>\n",
       "      <td>morning</td>\n",
       "      <td>4.0</td>\n",
       "    </tr>\n",
       "    <tr>\n",
       "      <th>3</th>\n",
       "      <td>184.0</td>\n",
       "      <td>1.0</td>\n",
       "      <td>4.0</td>\n",
       "      <td>1</td>\n",
       "      <td>1</td>\n",
       "      <td>16.9</td>\n",
       "      <td>0</td>\n",
       "      <td>0</td>\n",
       "      <td>0</td>\n",
       "      <td>0</td>\n",
       "      <td>...</td>\n",
       "      <td>0</td>\n",
       "      <td>0</td>\n",
       "      <td>0</td>\n",
       "      <td>0</td>\n",
       "      <td>0</td>\n",
       "      <td>0</td>\n",
       "      <td>0</td>\n",
       "      <td>2017-04-06</td>\n",
       "      <td>midday</td>\n",
       "      <td>4.0</td>\n",
       "    </tr>\n",
       "    <tr>\n",
       "      <th>4</th>\n",
       "      <td>157.0</td>\n",
       "      <td>1.0</td>\n",
       "      <td>2.0</td>\n",
       "      <td>1</td>\n",
       "      <td>1</td>\n",
       "      <td>2.0</td>\n",
       "      <td>0</td>\n",
       "      <td>0</td>\n",
       "      <td>0</td>\n",
       "      <td>1</td>\n",
       "      <td>...</td>\n",
       "      <td>0</td>\n",
       "      <td>0</td>\n",
       "      <td>0</td>\n",
       "      <td>0</td>\n",
       "      <td>0</td>\n",
       "      <td>0</td>\n",
       "      <td>0</td>\n",
       "      <td>2017-04-06</td>\n",
       "      <td>morning</td>\n",
       "      <td>4.0</td>\n",
       "    </tr>\n",
       "  </tbody>\n",
       "</table>\n",
       "<p>5 rows × 42 columns</p>\n",
       "</div>"
      ],
      "text/plain": [
       "      ID  Seller  Total_sum Num_guests Num_items  Duration item_1 item_2  \\\n",
       "0  185.0     1.0        4.5          1         2       2.0      0      0   \n",
       "1  150.0     2.0       11.0          1         4      31.2      0      0   \n",
       "2  156.0     1.0        2.5          1         1       2.0      0      0   \n",
       "3  184.0     1.0        4.0          1         1      16.9      0      0   \n",
       "4  157.0     1.0        2.0          1         1       2.0      0      0   \n",
       "\n",
       "  item_3 item_4   ...   item_27 item_28 item_29 item_30 item_31 item_32  \\\n",
       "0      0      0   ...         0       0       0       0       0       0   \n",
       "1      0      0   ...         0       0       0       0       0       0   \n",
       "2      1      0   ...         0       0       0       0       0       0   \n",
       "3      0      0   ...         0       0       0       0       0       0   \n",
       "4      0      1   ...         0       0       0       0       0       0   \n",
       "\n",
       "  item_33        Date T_period Weekday  \n",
       "0       0  2017-04-06   midday     4.0  \n",
       "1       0  2017-01-24  evening     2.0  \n",
       "2       0  2017-04-06  morning     4.0  \n",
       "3       0  2017-04-06   midday     4.0  \n",
       "4       0  2017-04-06  morning     4.0  \n",
       "\n",
       "[5 rows x 42 columns]"
      ]
     },
     "execution_count": 33,
     "metadata": {},
     "output_type": "execute_result"
    }
   ],
   "source": [
    "final_df.head(5)"
   ]
  },
  {
   "cell_type": "code",
   "execution_count": 34,
   "metadata": {
    "collapsed": true
   },
   "outputs": [],
   "source": [
    "final_df = final_df.drop([1], axis=0)"
   ]
  },
  {
   "cell_type": "code",
   "execution_count": 35,
   "metadata": {
    "collapsed": true
   },
   "outputs": [],
   "source": [
    "final_df.to_csv(path_or_buf='data/first_df.csv', index = False)"
   ]
  },
  {
   "cell_type": "code",
   "execution_count": 37,
   "metadata": {},
   "outputs": [],
   "source": [
    "final_df.to_excel(excel_writer='data/first_df.xlsx', index = False)"
   ]
  }
 ],
 "metadata": {
  "kernelspec": {
   "display_name": "Python 3",
   "language": "python",
   "name": "python3"
  },
  "language_info": {
   "codemirror_mode": {
    "name": "ipython",
    "version": 3
   },
   "file_extension": ".py",
   "mimetype": "text/x-python",
   "name": "python",
   "nbconvert_exporter": "python",
   "pygments_lexer": "ipython3",
   "version": "3.6.1"
  }
 },
 "nbformat": 4,
 "nbformat_minor": 2
}
