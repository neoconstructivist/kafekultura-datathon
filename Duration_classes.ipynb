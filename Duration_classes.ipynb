{
 "cells": [
  {
   "cell_type": "code",
   "execution_count": 1,
   "metadata": {
    "collapsed": true
   },
   "outputs": [],
   "source": [
    "import pandas as pd\n",
    "import numpy as np\n",
    "from dateutil.parser import parse\n",
    "import datetime"
   ]
  },
  {
   "cell_type": "code",
   "execution_count": 2,
   "metadata": {
    "collapsed": true
   },
   "outputs": [],
   "source": [
    "data = pd.read_csv('data/first_df.csv')"
   ]
  },
  {
   "cell_type": "code",
   "execution_count": 23,
   "metadata": {
    "collapsed": true
   },
   "outputs": [],
   "source": [
    "items_dec = pd.read_excel('data/items_decoding.xlsx')"
   ]
  },
  {
   "cell_type": "code",
   "execution_count": 24,
   "metadata": {
    "collapsed": true
   },
   "outputs": [],
   "source": [
    "items_str = []\n",
    "for i in range(1, 34):\n",
    "    items_str.append('item_' + str(i))\n",
    "items_str = pd.Series(items_str)"
   ]
  },
  {
   "cell_type": "code",
   "execution_count": 25,
   "metadata": {},
   "outputs": [],
   "source": [
    "items_dec = pd.concat([items_dec, items_str], axis=1)"
   ]
  },
  {
   "cell_type": "code",
   "execution_count": 27,
   "metadata": {},
   "outputs": [],
   "source": [
    "items_dec = items_dec.drop(['ID'], axis=1)"
   ]
  },
  {
   "cell_type": "code",
   "execution_count": 40,
   "metadata": {},
   "outputs": [],
   "source": [
    "TA_drinks = data[data.Duration==2]\n",
    "TA_total = TA_drinks.loc[:, 'item_1':'item_33'].sum().sum()\n",
    "TA_top = (TA_drinks.loc[:, 'item_1':'item_33'].sum().sort_values(ascending = False)/TA_total).head(5)"
   ]
  },
  {
   "cell_type": "code",
   "execution_count": 41,
   "metadata": {},
   "outputs": [],
   "source": [
    "TD_drinks = data[((data.Duration>2) & (data.Duration<5))]\n",
    "TD_total = TD_drinks.loc[:, 'item_1':'item_33'].sum().sum()\n",
    "TD_top = (TD_drinks.loc[:, 'item_1':'item_33'].sum().sort_values(ascending = False)/TD_total).head(5)"
   ]
  },
  {
   "cell_type": "code",
   "execution_count": 32,
   "metadata": {
    "collapsed": true
   },
   "outputs": [],
   "source": [
    "TS_drinks = data[((data.Duration>5) & (data.Duration<10))]\n",
    "TS_total = TS_drinks.loc[:, 'item_1':'item_33'].sum().sum()\n",
    "TS_top = (TS_drinks.loc[:, 'item_1':'item_33'].sum().sort_values(ascending = False)/TS_total).head(5)"
   ]
  },
  {
   "cell_type": "code",
   "execution_count": 33,
   "metadata": {
    "collapsed": true
   },
   "outputs": [],
   "source": [
    "TnT_drinks = data[((data.Duration>10) & (data.Duration<25))]\n",
    "TnT_total = TnT_drinks.loc[:, 'item_1':'item_33'].sum().sum()\n",
    "TnT_top = (TnT_drinks.loc[:, 'item_1':'item_33'].sum().sort_values(ascending = False)/TnT_total).head(5)"
   ]
  },
  {
   "cell_type": "code",
   "execution_count": 34,
   "metadata": {
    "collapsed": true
   },
   "outputs": [],
   "source": [
    "RB_drinks = data[data.Duration > 25]\n",
    "RB_total = RB_drinks.loc[:, 'item_1':'item_33'].sum().sum()\n",
    "RB_top = (RB_drinks.loc[:, 'item_1':'item_33'].sum().sort_values(ascending = False)/RB_total).head(5)"
   ]
  },
  {
   "cell_type": "code",
   "execution_count": 39,
   "metadata": {},
   "outputs": [],
   "source": [
    "writer = pd.ExcelWriter('data/Популярность напитков по классам.xlsx')\n",
    "TA_top.to_excel(excel_writer=writer, sheet_name = 'TA' )\n",
    "TD_top.to_excel(excel_writer=writer, sheet_name = 'TD' )\n",
    "TS_top.to_excel(excel_writer=writer, sheet_name = 'TS' )\n",
    "TnT_top.to_excel(excel_writer=writer, sheet_name = 'TnT' )\n",
    "RB_top.to_excel(excel_writer=writer, sheet_name = 'RB' )\n",
    "writer.save()"
   ]
  }
 ],
 "metadata": {
  "kernelspec": {
   "display_name": "Python 3",
   "language": "python",
   "name": "python3"
  },
  "language_info": {
   "codemirror_mode": {
    "name": "ipython",
    "version": 3
   },
   "file_extension": ".py",
   "mimetype": "text/x-python",
   "name": "python",
   "nbconvert_exporter": "python",
   "pygments_lexer": "ipython3",
   "version": "3.6.1"
  }
 },
 "nbformat": 4,
 "nbformat_minor": 2
}
